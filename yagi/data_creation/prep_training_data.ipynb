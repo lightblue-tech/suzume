{
 "cells": [
  {
   "cell_type": "code",
   "execution_count": 1,
   "id": "ee6e6a62-9991-4eea-9874-cec69de61b4a",
   "metadata": {
    "tags": []
   },
   "outputs": [],
   "source": [
    "from ftlangdetect import detect\n",
    "\n",
    "def filter_dataset(dataset):\n",
    "    # Detect language of responses\n",
    "    dataset = dataset.map(\n",
    "        lambda x: {\n",
    "            \"lang_detected\": detect(\n",
    "                text=x[\"responses\"][\"gen_prompts\"].replace(\"\\n\", \" \"), low_memory=False\n",
    "            ) if x[\"responses\"] is not None and x[\"responses\"][\"gen_prompts\"] is not None else None\n",
    "        }, num_proc=12\n",
    "    )\n",
    "    # Remove instances where the text is None\n",
    "    filtered_dataset = dataset.filter(\n",
    "        lambda x: x[\"lang_detected\"] is not None,\n",
    "        num_proc=12\n",
    "    )\n",
    "    # Remove instances where the response did not finish\n",
    "    filtered_dataset = filtered_dataset.filter(\n",
    "        lambda x: x[\"responses\"][\"finish_reason\"] == \"stop\",\n",
    "        num_proc=12\n",
    "    )\n",
    "    # Remove instances where the detected language was English with confidence >0.8 but the original language was not English\n",
    "    filtered_dataset = filtered_dataset.filter(\n",
    "        lambda x: \"English\" in x[\"language\"] or x[\"lang_detected\"][\"lang\"] != \"en\" or x[\"lang_detected\"][\"score\"] < 0.8,\n",
    "        num_proc=12\n",
    "    )\n",
    "    return filtered_dataset"
   ]
  },
  {
   "cell_type": "code",
   "execution_count": 2,
   "id": "67cdfb38-39af-474a-b252-c13eacec07cd",
   "metadata": {
    "tags": []
   },
   "outputs": [],
   "source": [
    "def make_dataset_training(dataset):\n",
    "    return dataset.map(lambda x: {\n",
    "        \"conversations\": [\n",
    "            {\"from\": \"human\", \"value\": x[\"prompt_list\"]},\n",
    "            {\"from\": \"gpt\", \"value\": x[\"responses\"][\"gen_prompts\"]},\n",
    "        ]}, num_proc=12).select_columns([\"conversations\"])"
   ]
  },
  {
   "cell_type": "code",
   "execution_count": 3,
   "id": "16a5c04e-85c9-442e-ba0b-9d77aa1d5a66",
   "metadata": {
    "tags": []
   },
   "outputs": [],
   "source": [
    "from datasets import load_dataset\n",
    "yagi_296_dataset = load_dataset(f\"lightblue/yagi_297\", split=\"train\")\n",
    "yagi_296_dataset = filter_dataset(yagi_296_dataset)\n",
    "yagi_296_dataset = make_dataset_training(yagi_296_dataset)"
   ]
  },
  {
   "cell_type": "code",
   "execution_count": 28,
   "id": "9bded8d6-88bc-413b-9c9c-48c7b7267bee",
   "metadata": {
    "tags": []
   },
   "outputs": [
    {
     "data": {
      "application/vnd.jupyter.widget-view+json": {
       "model_id": "5ba41650c6a140deb435ef52adf34f3a",
       "version_major": 2,
       "version_minor": 0
      },
      "text/plain": [
       "Uploading the dataset shards:   0%|          | 0/1 [00:00<?, ?it/s]"
      ]
     },
     "metadata": {},
     "output_type": "display_data"
    },
    {
     "data": {
      "application/vnd.jupyter.widget-view+json": {
       "model_id": "e5eee6eb6d1f4fa1a20c2f215826bcb2",
       "version_major": 2,
       "version_minor": 0
      },
      "text/plain": [
       "Creating parquet from Arrow format:   0%|          | 0/27 [00:00<?, ?ba/s]"
      ]
     },
     "metadata": {},
     "output_type": "display_data"
    },
    {
     "data": {
      "text/plain": [
       "CommitInfo(commit_url='https://huggingface.co/datasets/lightblue/tansei_yagi_296/commit/7598e1bf967981c60c66ee73bce6d3d10fe6734e', commit_message='Upload dataset', commit_description='', oid='7598e1bf967981c60c66ee73bce6d3d10fe6734e', pr_url=None, pr_revision=None, pr_num=None)"
      ]
     },
     "execution_count": 28,
     "metadata": {},
     "output_type": "execute_result"
    }
   ],
   "source": [
    "yagi_296_dataset.push_to_hub(\"lightblue/tansei_yagi_296\", private=True)"
   ]
  },
  {
   "cell_type": "code",
   "execution_count": 19,
   "id": "d813969c-8e6e-4d41-8d53-c0186e5daf56",
   "metadata": {
    "tags": []
   },
   "outputs": [
    {
     "data": {
      "text/plain": [
       "Dataset({\n",
       "    features: ['conversations'],\n",
       "    num_rows: 26914\n",
       "})"
      ]
     },
     "execution_count": 19,
     "metadata": {},
     "output_type": "execute_result"
    }
   ],
   "source": [
    "yagi_296_dataset"
   ]
  },
  {
   "cell_type": "code",
   "execution_count": 27,
   "id": "90f0766f-4f4f-4ef7-9150-8a634558fd22",
   "metadata": {
    "tags": []
   },
   "outputs": [
    {
     "data": {
      "text/plain": [
       "{'conversations': [{'from': 'human',\n",
       "   'value': 'Como poddo imparà a sonare su launeddu?'},\n",
       "  {'from': 'gpt',\n",
       "   'value': \"Imparare a suonare **su launeddu** (o **le launeddas**), uno strumento a fiato tradizionale della Sardegna, può essere una sfida ma anche un'esperienza molto gratificante. Segui questi passi per iniziare:\\n\\n### 1. **Acquisto dello strumento**\\n- Acquista una launeddas di buona qualità. È opportuno iniziare con uno strumento per principianti che non sia troppo complicato da suonare.\\n\\n### 2. **Studio della teoria**\\n- Familiarizza con la teoria musicale di base se non ne hai già conoscenza, poiché capire il solfeggio e le note ti aiuterà molto nel tuo apprendimento.\\n\\n### 3. **Trovare un maestro**\\n- Se possibile, cerca un maestro che possa insegnarti in persona. La tradizione delle launeddas è spesso trasmessa oralmente e attraverso l'imitazione, quindi avere qualcuno che ti possa mostrare i passaggi può essere estremamente utile.\\n\\n### 4. **Sviluppare la respirazione circolare**\\n- Una tecnica fondamentale per suonare le launeddas è la respirazione circolare, che ti permette di produrre un suono continuo. Puoi iniziare a praticarla senza lo strumento: respira tramite il naso mentre soffi l'aria accumulata nelle guance.\\n\\n### 5. **Esercizi di base**\\n- Inizia con semplici esercizi di emissione del suono. Prova a produrre note singole in modo chiaro e uniforme.\\n- Pratica l'impostazione del bocchino e la posizione delle dita.\\n\\n### 6. **Ascolto e imitazione**\\n- Ascolta tanta musica suonata con le launeddas. Cerca video e registrazioni dei maestri dello strumento per capire meglio il timbro e lo stile.\\n- Prova a imitare le melodie e le tecniche che senti.\\n\\n### 7. **Pratica regolare**\\n- Dedica del tempo ogni giorno alla pratica. Anche sessioni brevi ma quotidiane possono fare una grande differenza nel tuo progresso.\\n\\n### 8. **Partecipare a corsi o workshop**\\n- Se hai l'opportunità, partecipa a workshop o corsi specifici per imparare a suonare le launeddas. Potresti trovare eventi di questo tipo in Sardegna o presso associazioni culturali italiane.\\n\\n### 9. **Unirsi a gruppi di musicisti**\\n- Cerca gruppi di musica tradizionale sarda nella tua area o online e prova a unirti a loro. Suonare insieme ad altri musicisti può darti molte nuove intuizioni e aiutarti a migliorare più velocemente.\\n\\n### Libri e risorse\\n- Esistono vari libri e risorse online che possono offrirti esercizi, spartiti e consigli sulla tecnica. Cerca testi specifici sulle launeddas per approfondire il tuo studio.\\n\\n### Pazienza e perseveranza\\nRicorda che imparare un nuovo strumento richiede tempo e dedizione. Non scoraggiarti se i progressi iniziali sono lenti; la pratica costante ti porterà miglioramenti significativi.\\n\\nBuona fortuna nel tuo viaggio musicale con le launeddas!\"}]}"
      ]
     },
     "execution_count": 27,
     "metadata": {},
     "output_type": "execute_result"
    }
   ],
   "source": [
    "yagi_296_dataset.shuffle()[0]"
   ]
  },
  {
   "cell_type": "code",
   "execution_count": 6,
   "id": "82dcf1e2-d668-47bf-b46f-b56cd2b956be",
   "metadata": {
    "tags": []
   },
   "outputs": [
    {
     "data": {
      "application/vnd.jupyter.widget-view+json": {
       "model_id": "dadbbdf0f1ee419a87e5d907ebe8d315",
       "version_major": 2,
       "version_minor": 0
      },
      "text/plain": [
       "Map (num_proc=12):   0%|          | 0/236287 [00:00<?, ? examples/s]"
      ]
     },
     "metadata": {},
     "output_type": "display_data"
    },
    {
     "data": {
      "application/vnd.jupyter.widget-view+json": {
       "model_id": "15af092a27e344c5b6e6d8d25da52ed7",
       "version_major": 2,
       "version_minor": 0
      },
      "text/plain": [
       "Filter (num_proc=12):   0%|          | 0/236287 [00:00<?, ? examples/s]"
      ]
     },
     "metadata": {},
     "output_type": "display_data"
    },
    {
     "data": {
      "application/vnd.jupyter.widget-view+json": {
       "model_id": "50d4d7937a9c4848adef6447aaf72916",
       "version_major": 2,
       "version_minor": 0
      },
      "text/plain": [
       "Filter (num_proc=12):   0%|          | 0/226558 [00:00<?, ? examples/s]"
      ]
     },
     "metadata": {},
     "output_type": "display_data"
    },
    {
     "data": {
      "application/vnd.jupyter.widget-view+json": {
       "model_id": "7bcbac3644144c1fab2dde5652b7c427",
       "version_major": 2,
       "version_minor": 0
      },
      "text/plain": [
       "Filter (num_proc=12):   0%|          | 0/225929 [00:00<?, ? examples/s]"
      ]
     },
     "metadata": {},
     "output_type": "display_data"
    },
    {
     "data": {
      "application/vnd.jupyter.widget-view+json": {
       "model_id": "f3c0a3627bbe4c6d987f4ccb4bd41ff9",
       "version_major": 2,
       "version_minor": 0
      },
      "text/plain": [
       "Map (num_proc=12):   0%|          | 0/218840 [00:00<?, ? examples/s]"
      ]
     },
     "metadata": {},
     "output_type": "display_data"
    }
   ],
   "source": [
    "from datasets import load_dataset\n",
    "yagi_59_dataset = load_dataset(f\"lightblue/yagi_59\", split=\"train\")\n",
    "yagi_59_dataset = filter_dataset(yagi_59_dataset)\n",
    "yagi_59_dataset = make_dataset_training(yagi_59_dataset)"
   ]
  },
  {
   "cell_type": "code",
   "execution_count": 29,
   "id": "58922ddc-c396-4d89-ab7b-0ceea89a3d0e",
   "metadata": {
    "tags": []
   },
   "outputs": [
    {
     "data": {
      "application/vnd.jupyter.widget-view+json": {
       "model_id": "72bba3dfd40145be8aa59dd8b987c345",
       "version_major": 2,
       "version_minor": 0
      },
      "text/plain": [
       "Uploading the dataset shards:   0%|          | 0/2 [00:00<?, ?it/s]"
      ]
     },
     "metadata": {},
     "output_type": "display_data"
    },
    {
     "data": {
      "application/vnd.jupyter.widget-view+json": {
       "model_id": "db2892e353114543b393c77f59540da9",
       "version_major": 2,
       "version_minor": 0
      },
      "text/plain": [
       "Creating parquet from Arrow format:   0%|          | 0/110 [00:00<?, ?ba/s]"
      ]
     },
     "metadata": {},
     "output_type": "display_data"
    },
    {
     "data": {
      "application/vnd.jupyter.widget-view+json": {
       "model_id": "39f936097bb440c5a2399b2b9d3acb73",
       "version_major": 2,
       "version_minor": 0
      },
      "text/plain": [
       "Creating parquet from Arrow format:   0%|          | 0/110 [00:00<?, ?ba/s]"
      ]
     },
     "metadata": {},
     "output_type": "display_data"
    },
    {
     "data": {
      "text/plain": [
       "CommitInfo(commit_url='https://huggingface.co/datasets/lightblue/tansei_yagi_59/commit/6c933c8434eb45e07bb409d5bc25295f61293689', commit_message='Upload dataset', commit_description='', oid='6c933c8434eb45e07bb409d5bc25295f61293689', pr_url=None, pr_revision=None, pr_num=None)"
      ]
     },
     "execution_count": 29,
     "metadata": {},
     "output_type": "execute_result"
    }
   ],
   "source": [
    "yagi_59_dataset.push_to_hub(\"lightblue/tansei_yagi_59\", private=True)"
   ]
  },
  {
   "cell_type": "code",
   "execution_count": 21,
   "id": "3bdebccf-56bf-4c8a-9442-e67377668684",
   "metadata": {
    "tags": []
   },
   "outputs": [
    {
     "data": {
      "text/plain": [
       "Dataset({\n",
       "    features: ['conversations'],\n",
       "    num_rows: 218840\n",
       "})"
      ]
     },
     "execution_count": 21,
     "metadata": {},
     "output_type": "execute_result"
    }
   ],
   "source": [
    "yagi_59_dataset"
   ]
  },
  {
   "cell_type": "code",
   "execution_count": 23,
   "id": "6e85508b-8a72-4923-89ba-2cd3aa2f86d0",
   "metadata": {
    "tags": []
   },
   "outputs": [
    {
     "data": {
      "text/plain": [
       "{'conversations': [{'from': 'human',\n",
       "   'value': 'Explique-moi le modèle fractale utilisé dans la finance actuelle'},\n",
       "  {'from': 'gpt',\n",
       "   'value': \"Le modèle fractal en finance est une méthode d'analyse qui utilise des concepts de géométrie fractale pour étudier les marchés financiers. Contrairement aux modèles traditionnels qui souvent supposent que les prix des actifs suivent une distribution normale avec des variations prévisibles, les modèles fractals tiennent compte de la nature erratique et complexe des marchés.\\n\\n### Principes de Base des Fractals\\n\\n1. **Auto-similarité**: Les fractals sont des structures répétitives à différentes échelles. En finance, cela signifie que les comportements des prix peuvent être similaires sur différentes périodes de temps, que ce soit sur des minutes, des heures, des jours, ou des années.\\n\\n2. **Complexité et Irrégularité**: Les modèles fractals reconnaissent que les mouvements de prix sont irréguliers et souvent imprévisibles, contredisant l'idée de marchés parfaitement équilibrés et rationnels.\\n\\n3. **Distribution Lévy**: Contrairement à la distribution normale, les distributions de Lévy prennent en compte les événements extrêmes (grands gains ou pertes) qui sont plus fréquents dans la réalité du marché. Cela permet de modéliser les queues épaisses de la distribution des rendements, capturant les risques sous-estimés par d'autres modèles.\\n\\n### Application Pratique\\n\\n1. **Analyse de la Volatilité**: Les modèles fractals peuvent mieux capturer la nature volatile des marchés financiers, permettant une meilleure estimation des risques associés à des actifs financiers.\\n\\n2. **Détection de Bulles et Crises**: En observant les caractéristiques fractales des séries temporelles des prix, les chercheurs peuvent identifier des schémas typiques de bulles spéculatives ou des signes avant-coureurs de crises.\\n\\n3. **Stratégies de Trading**: Les traders peuvent utiliser des indicateurs basés sur des modèles fractals pour améliorer leurs stratégies de trading en détectant des niveaux potentiels de support et de résistance, ou des points de retournement de tendance.\\n\\n### Modèles Fractals en Finance\\n\\n- **Le Mouvement Brownien Fractionnaire (FBM)**: Une généralisation du mouvement brownien standard, le FBM permet de capturer la mémoire longue (autocorrélation de longue durée) dans les séries de prix.\\n  \\n- **Les Cascades Multiplicatives**: Ces modèles simulent la distribution des rendements à différentes échelles de temps en multipliant des facteurs aléatoires, reflétant l’hétérogénéité des marchés financiers.\\n\\n- **Analyse Multifractale**: Cette méthode étend les concepts fractals en permettant une variabilité des propriétés fractales selon la taille du segment temporel, ce qui est utile pour modéliser des marchés avec plusieurs régimes de volatilité.\\n\\n### Avantages et Limites\\n\\n**Avantages**:\\n- Meilleure gestion du risque grâce à la prise en compte des phénomènes extrêmes.\\n- Intuition plus réaliste de la dynamique des marchés.\\n\\n**Limites**:\\n- Les modèles fractals peuvent être mathématiquement complexes et difficiles à calibrer.\\n- Ils ne prennent pas toujours en compte certaines influences extérieures comme la politique et les événements macroéconomiques.\\n\\nEn conclusion, bien que les modèles fractals ne soient pas une panacée, ils offrent une perspective plus nuancée et potentiellement plus précise pour comprendre et prévoir les comportements des marchés financiers comparés aux modèles traditionnels.\"}]}"
      ]
     },
     "execution_count": 23,
     "metadata": {},
     "output_type": "execute_result"
    }
   ],
   "source": [
    "yagi_59_dataset.shuffle()[0]"
   ]
  },
  {
   "cell_type": "code",
   "execution_count": null,
   "id": "717fe62a-11da-493e-b288-af2b379da940",
   "metadata": {},
   "outputs": [],
   "source": []
  }
 ],
 "metadata": {
  "environment": {
   "kernel": "python3",
   "name": "common-cpu.m118",
   "type": "gcloud",
   "uri": "us-docker.pkg.dev/deeplearning-platform-release/gcr.io/base-cpu:m118"
  },
  "kernelspec": {
   "display_name": "Python 3",
   "language": "python",
   "name": "python3"
  },
  "language_info": {
   "codemirror_mode": {
    "name": "ipython",
    "version": 3
   },
   "file_extension": ".py",
   "mimetype": "text/x-python",
   "name": "python",
   "nbconvert_exporter": "python",
   "pygments_lexer": "ipython3",
   "version": "3.10.13"
  }
 },
 "nbformat": 4,
 "nbformat_minor": 5
}
